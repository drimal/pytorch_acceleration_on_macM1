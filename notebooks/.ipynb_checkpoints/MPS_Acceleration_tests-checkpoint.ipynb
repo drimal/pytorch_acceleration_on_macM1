{
 "cells": [
  {
   "cell_type": "markdown",
   "id": "a5a72382-63a1-4240-94f6-a7c7299c102d",
   "metadata": {},
   "source": [
    "First, install Rust in the same environment as the transformers library uses tokenizers built in Rust. \n",
    "* paste the following line in a new terminal and hit enter: \n",
    " ```curl --proto '=https' --tlsv1.2 -sSf https://sh.rustup.rs | sh```\n",
    "\n",
    "* Then install transformers and datasets\n"
   ]
  },
  {
   "cell_type": "code",
   "execution_count": 2,
   "id": "4e782139-2744-4d69-8ea6-55de9e4fa748",
   "metadata": {},
   "outputs": [],
   "source": [
    "#!pip install transformers datasets\n",
    "PYTORCH_MPS_HIGH_WATERMARK_RATIO=0.0"
   ]
  },
  {
   "cell_type": "code",
   "execution_count": 3,
   "id": "783830cf-0e62-4cb2-b4ec-a91ce74d7e0e",
   "metadata": {},
   "outputs": [],
   "source": [
    "import torch\n",
    "from transformers import AutoTokenizer, AutoModel\n",
    "from datasets import load_dataset\n",
    "import time"
   ]
  },
  {
   "cell_type": "code",
   "execution_count": 4,
   "id": "ae0c2d42",
   "metadata": {},
   "outputs": [
    {
     "name": "stderr",
     "output_type": "stream",
     "text": [
      "Found cached dataset trec (/Users/dipakrimal/.cache/huggingface/datasets/trec/default/2.0.0/f2469cab1b5fceec7249fda55360dfdbd92a7a5b545e91ea0f78ad108ffac1c2)\n"
     ]
    },
    {
     "data": {
      "text/plain": [
       "Dataset({\n",
       "    features: ['text', 'coarse_label', 'fine_label'],\n",
       "    num_rows: 1000\n",
       "})"
      ]
     },
     "execution_count": 4,
     "metadata": {},
     "output_type": "execute_result"
    }
   ],
   "source": [
    "trec_data = load_dataset('trec', split='train[:1000]')\n",
    "trec_data"
   ]
  },
  {
   "cell_type": "code",
   "execution_count": 5,
   "id": "d01fee82",
   "metadata": {},
   "outputs": [
    {
     "data": {
      "text/plain": [
       "{'text': 'How did serfdom develop in and then leave Russia ?',\n",
       " 'coarse_label': 2,\n",
       " 'fine_label': 26}"
      ]
     },
     "execution_count": 5,
     "metadata": {},
     "output_type": "execute_result"
    }
   ],
   "source": [
    "trec_data[0]"
   ]
  },
  {
   "cell_type": "code",
   "execution_count": 6,
   "id": "78453c49",
   "metadata": {},
   "outputs": [
    {
     "name": "stderr",
     "output_type": "stream",
     "text": [
      "Some weights of the model checkpoint at bert-base-uncased were not used when initializing BertModel: ['cls.predictions.transform.dense.bias', 'cls.predictions.bias', 'cls.predictions.transform.dense.weight', 'cls.predictions.transform.LayerNorm.bias', 'cls.predictions.transform.LayerNorm.weight', 'cls.seq_relationship.bias', 'cls.seq_relationship.weight']\n",
      "- This IS expected if you are initializing BertModel from the checkpoint of a model trained on another task or with another architecture (e.g. initializing a BertForSequenceClassification model from a BertForPreTraining model).\n",
      "- This IS NOT expected if you are initializing BertModel from the checkpoint of a model that you expect to be exactly identical (initializing a BertForSequenceClassification model from a BertForSequenceClassification model).\n"
     ]
    }
   ],
   "source": [
    "tokenizer = AutoTokenizer.from_pretrained('bert-base-uncased')\n",
    "model = AutoModel.from_pretrained('bert-base-uncased')"
   ]
  },
  {
   "cell_type": "code",
   "execution_count": 7,
   "id": "5d135912",
   "metadata": {},
   "outputs": [],
   "source": [
    "# take the first 64 rows of the trec data\n",
    "text = trec_data['text'][:64]\n",
    "# tokenize text using the BERT tokenizer\n",
    "tokens = tokenizer(\n",
    "    text, max_length=512,\n",
    "    truncation=True, padding=True,\n",
    "    return_tensors='pt'\n",
    ")\n"
   ]
  },
  {
   "cell_type": "code",
   "execution_count": 8,
   "id": "1a22c2df",
   "metadata": {},
   "outputs": [
    {
     "name": "stdout",
     "output_type": "stream",
     "text": [
      "538 ms ± 6.92 ms per loop (mean ± std. dev. of 7 runs, 1 loop each)\n"
     ]
    }
   ],
   "source": [
    "%%timeit\n",
    "model(**tokens)"
   ]
  },
  {
   "cell_type": "code",
   "execution_count": 9,
   "id": "422174bc",
   "metadata": {},
   "outputs": [
    {
     "data": {
      "text/plain": [
       "'mps'"
      ]
     },
     "execution_count": 9,
     "metadata": {},
     "output_type": "execute_result"
    }
   ],
   "source": [
    "device = 'mps'\n",
    "model.to(device)\n",
    "tokens.to(device)\n",
    "device"
   ]
  },
  {
   "cell_type": "code",
   "execution_count": 10,
   "id": "36e1033b",
   "metadata": {},
   "outputs": [
    {
     "name": "stdout",
     "output_type": "stream",
     "text": [
      "243 ms ± 37.4 ms per loop (mean ± std. dev. of 7 runs, 1 loop each)\n"
     ]
    }
   ],
   "source": [
    "%%timeit\n",
    "model(**tokens)\n"
   ]
  },
  {
   "cell_type": "code",
   "execution_count": 29,
   "id": "a7b4a08d-19bf-41a9-b997-b43e001008c3",
   "metadata": {},
   "outputs": [],
   "source": [
    "from time import time\n",
    "\n",
    "reruns = 5\n",
    "b = 9\n",
    "\n",
    "# start with CPU test\n",
    "device = torch.device('cpu')\n",
    "model.to(device)\n",
    "\n",
    "cpu_times = []\n",
    "\n",
    "for i in range(b):\n",
    "    text = trec_data['text'][:2**i]\n",
    "    tokens = tokenizer(\n",
    "        text, max_length=128,\n",
    "        truncation=True, padding=True,\n",
    "        return_tensors='pt'\n",
    "    )\n",
    "    tot_time = 0\n",
    "    for _ in range(reruns):\n",
    "        t0 = time()\n",
    "        model(**tokens)\n",
    "        tot_time += time()-t0\n",
    "    cpu_times.append(tot_time/reruns)\n",
    "\n",
    "# then GPU test\n",
    "device = torch.device('mps')\n",
    "model.to(device)\n",
    "\n",
    "mps_times = []\n",
    "\n",
    "for i in range(b):\n",
    "    text = trec_data['text'][:2**i]\n",
    "    tokens = tokenizer(\n",
    "        text, max_length=128,\n",
    "        truncation=True, padding=True,\n",
    "        return_tensors='pt'\n",
    "    ).to(device)\n",
    "    tot_time = 0\n",
    "    for _ in range(reruns):\n",
    "        t0 = time()\n",
    "        model(**tokens)\n",
    "        tot_time += time()-t0\n",
    "    mps_times.append(tot_time/reruns)"
   ]
  },
  {
   "cell_type": "code",
   "execution_count": 30,
   "id": "5950e283-69fe-4796-a6a4-dab64d100642",
   "metadata": {},
   "outputs": [],
   "source": [
    "import matplotlib.pyplot as plt"
   ]
  },
  {
   "cell_type": "code",
   "execution_count": 31,
   "id": "996ecfc0-5515-461a-852d-bf2e10e9aa50",
   "metadata": {},
   "outputs": [],
   "source": [
    "batch_sizes = [2**i for i in range(2, b)]"
   ]
  },
  {
   "cell_type": "code",
   "execution_count": 32,
   "id": "4078bec0-3a2d-4fd6-a386-7fd451c5d237",
   "metadata": {},
   "outputs": [
    {
     "data": {
      "image/png": "[encoded data removed]",
      "text/plain": [
       "<Figure size 640x480 with 1 Axes>"
      ]
     },
     "metadata": {},
     "output_type": "display_data"
    }
   ],
   "source": [
    "plt.plot(batch_sizes, cpu_times, label='CPU')\n",
    "plt.plot(batch_sizes, mps_times, label='GPU')\n",
    "plt.show()"
   ]
  },
  {
   "cell_type": "code",
   "execution_count": null,
   "id": "cdd0f82b-dc83-4e1d-8f90-e59da8705a0c",
   "metadata": {},
   "outputs": [],
   "source": [
    "# Because my mac m1 has just 8 GB, I did n"
   ]
  }
 ],
 "metadata": {
  "kernelspec": {
   "display_name": "py310",
   "language": "python",
   "name": "py310"
  },
  "language_info": {
   "codemirror_mode": {
    "name": "ipython",
    "version": 3
   },
   "file_extension": ".py",
   "mimetype": "text/x-python",
   "name": "python",
   "nbconvert_exporter": "python",
   "pygments_lexer": "ipython3",
   "version": "3.10.10"
  }
 },
 "nbformat": 4,
 "nbformat_minor": 5
}
