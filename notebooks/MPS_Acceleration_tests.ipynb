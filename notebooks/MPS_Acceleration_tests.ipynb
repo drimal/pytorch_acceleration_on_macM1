{
 "cells": [
  {
   "cell_type": "markdown",
   "id": "a5a72382-63a1-4240-94f6-a7c7299c102d",
   "metadata": {},
   "source": [
    "First, install Rust in the same environment as the transformers library uses tokenizers built in Rust. \n",
    "* paste the following line in a new terminal and hit enter: \n",
    " ```curl --proto '=https' --tlsv1.2 -sSf https://sh.rustup.rs | sh```\n",
    "\n",
    "* Then install transformers and datasets\n"
   ]
  },
  {
   "cell_type": "code",
   "execution_count": 1,
   "id": "4e782139-2744-4d69-8ea6-55de9e4fa748",
   "metadata": {},
   "outputs": [],
   "source": [
    "#!pip install transformers datasets\n",
    "PYTORCH_MPS_HIGH_WATERMARK_RATIO=0.0"
   ]
  },
  {
   "cell_type": "code",
   "execution_count": 2,
   "id": "783830cf-0e62-4cb2-b4ec-a91ce74d7e0e",
   "metadata": {},
   "outputs": [],
   "source": [
    "import torch\n",
    "from transformers import AutoTokenizer, AutoModel\n",
    "from datasets import load_dataset\n",
    "import time"
   ]
  },
  {
   "cell_type": "code",
   "execution_count": 3,
   "id": "ae0c2d42",
   "metadata": {},
   "outputs": [
    {
     "name": "stderr",
     "output_type": "stream",
     "text": [
      "Found cached dataset trec (/Users/dipakrimal/.cache/huggingface/datasets/trec/default/2.0.0/f2469cab1b5fceec7249fda55360dfdbd92a7a5b545e91ea0f78ad108ffac1c2)\n"
     ]
    },
    {
     "data": {
      "text/plain": [
       "Dataset({\n",
       "    features: ['text', 'coarse_label', 'fine_label'],\n",
       "    num_rows: 1000\n",
       "})"
      ]
     },
     "execution_count": 3,
     "metadata": {},
     "output_type": "execute_result"
    }
   ],
   "source": [
    "trec_data = load_dataset('trec', split='train[:1000]')\n",
    "trec_data"
   ]
  },
  {
   "cell_type": "code",
   "execution_count": 4,
   "id": "d01fee82",
   "metadata": {},
   "outputs": [
    {
     "data": {
      "text/plain": [
       "{'text': 'How did serfdom develop in and then leave Russia ?',\n",
       " 'coarse_label': 2,\n",
       " 'fine_label': 26}"
      ]
     },
     "execution_count": 4,
     "metadata": {},
     "output_type": "execute_result"
    }
   ],
   "source": [
    "trec_data[0]"
   ]
  },
  {
   "cell_type": "code",
   "execution_count": 5,
   "id": "78453c49",
   "metadata": {},
   "outputs": [
    {
     "name": "stderr",
     "output_type": "stream",
     "text": [
      "Some weights of the model checkpoint at bert-base-uncased were not used when initializing BertModel: ['cls.seq_relationship.weight', 'cls.predictions.transform.LayerNorm.bias', 'cls.predictions.bias', 'cls.predictions.transform.dense.weight', 'cls.seq_relationship.bias', 'cls.predictions.transform.dense.bias', 'cls.predictions.transform.LayerNorm.weight']\n",
      "- This IS expected if you are initializing BertModel from the checkpoint of a model trained on another task or with another architecture (e.g. initializing a BertForSequenceClassification model from a BertForPreTraining model).\n",
      "- This IS NOT expected if you are initializing BertModel from the checkpoint of a model that you expect to be exactly identical (initializing a BertForSequenceClassification model from a BertForSequenceClassification model).\n"
     ]
    }
   ],
   "source": [
    "tokenizer = AutoTokenizer.from_pretrained('bert-base-uncased')\n",
    "model = AutoModel.from_pretrained('bert-base-uncased')"
   ]
  },
  {
   "cell_type": "code",
   "execution_count": 6,
   "id": "5d135912",
   "metadata": {},
   "outputs": [],
   "source": [
    "# take the first 64 rows of the trec data\n",
    "text = trec_data['text'][:64]\n",
    "# tokenize text using the BERT tokenizer\n",
    "tokens = tokenizer(\n",
    "    text, max_length=128,\n",
    "    truncation=True, padding=True,\n",
    "    return_tensors='pt'\n",
    ")\n"
   ]
  },
  {
   "cell_type": "code",
   "execution_count": 7,
   "id": "1a22c2df",
   "metadata": {},
   "outputs": [
    {
     "name": "stdout",
     "output_type": "stream",
     "text": [
      "536 ms ± 23 ms per loop (mean ± std. dev. of 7 runs, 1 loop each)\n"
     ]
    }
   ],
   "source": [
    "%%timeit\n",
    "model(**tokens)"
   ]
  },
  {
   "cell_type": "code",
   "execution_count": 8,
   "id": "422174bc",
   "metadata": {},
   "outputs": [
    {
     "data": {
      "text/plain": [
       "'mps'"
      ]
     },
     "execution_count": 8,
     "metadata": {},
     "output_type": "execute_result"
    }
   ],
   "source": [
    "device = 'mps'\n",
    "model.to(device)\n",
    "tokens.to(device)\n",
    "device"
   ]
  },
  {
   "cell_type": "code",
   "execution_count": 9,
   "id": "36e1033b",
   "metadata": {},
   "outputs": [
    {
     "name": "stdout",
     "output_type": "stream",
     "text": [
      "236 ms ± 35.2 ms per loop (mean ± std. dev. of 7 runs, 1 loop each)\n"
     ]
    }
   ],
   "source": [
    "%%timeit\n",
    "model(**tokens)\n"
   ]
  },
  {
   "cell_type": "code",
   "execution_count": 10,
   "id": "a7b4a08d-19bf-41a9-b997-b43e001008c3",
   "metadata": {},
   "outputs": [],
   "source": [
    "from time import time\n",
    "\n",
    "def run_tests(on_device='cpu'):\n",
    "    reruns = 10\n",
    "    b = 8\n",
    "    times = []\n",
    "    device = torch.device(on_device)\n",
    "    model.to(device)\n",
    "    for i in range(2, b):\n",
    "        text = trec_data['text'][:2**i]\n",
    "        tokens = tokenizer(\n",
    "            text, max_length=512,\n",
    "            truncation=True, padding=True,\n",
    "            return_tensors='pt'\n",
    "        )\n",
    "        if on_device == 'mps':\n",
    "            tokens.to(device)\n",
    "        tot_time = 0\n",
    "        for _ in range(reruns):\n",
    "            t0 = time()\n",
    "            model(**tokens)\n",
    "        tot_time += time()-t0\n",
    "        times.append(tot_time/reruns)\n",
    "    return times"
   ]
  },
  {
   "cell_type": "code",
   "execution_count": 11,
   "id": "c1aa14b1-9e4d-47f6-87cc-ac37a598f433",
   "metadata": {},
   "outputs": [],
   "source": [
    "# Run on CPU \n",
    "cpu_times = run_tests()"
   ]
  },
  {
   "cell_type": "code",
   "execution_count": 12,
   "id": "36cc2d8f-803f-46de-9712-d14e03ec0ed4",
   "metadata": {},
   "outputs": [],
   "source": [
    "# Run on GPU \n",
    "mps_times = run_tests(on_device='mps')"
   ]
  },
  {
   "cell_type": "code",
   "execution_count": 13,
   "id": "5950e283-69fe-4796-a6a4-dab64d100642",
   "metadata": {},
   "outputs": [],
   "source": [
    "import matplotlib.pyplot as plt"
   ]
  },
  {
   "cell_type": "code",
   "execution_count": 14,
   "id": "996ecfc0-5515-461a-852d-bf2e10e9aa50",
   "metadata": {},
   "outputs": [],
   "source": [
    "batch_sizes = [2**i for i in range(2, 8)]"
   ]
  },
  {
   "cell_type": "code",
   "execution_count": 15,
   "id": "2da66d70-54c6-4107-b110-f68243d888cd",
   "metadata": {},
   "outputs": [
    {
     "data": {
      "text/plain": [
       "[0.005241990089416504,\n",
       " 0.007774901390075683,\n",
       " 0.012727689743041993,\n",
       " 0.023450207710266114,\n",
       " 0.05256609916687012,\n",
       " 0.12736740112304687]"
      ]
     },
     "execution_count": 15,
     "metadata": {},
     "output_type": "execute_result"
    }
   ],
   "source": [
    "cpu_times"
   ]
  },
  {
   "cell_type": "code",
   "execution_count": 20,
   "id": "4078bec0-3a2d-4fd6-a386-7fd451c5d237",
   "metadata": {},
   "outputs": [
    {
     "data": {
      "image/png": "[encoded data removed]",
      "text/plain": [
       "<Figure size 640x480 with 1 Axes>"
      ]
     },
     "metadata": {},
     "output_type": "display_data"
    }
   ],
   "source": [
    "plt.plot(batch_sizes, cpu_times, 'x-', label='CPU')\n",
    "plt.plot(batch_sizes, mps_times, 'o-', label='GPU')\n",
    "plt.xlabel(\"Batch Size\")\n",
    "plt.ylabel(\"Time Taken\")\n",
    "plt.title(\"Time taken to run the BERT Uncased\")\n",
    "plt.legend(loc='best')\n",
    "plt.show()"
   ]
  },
  {
   "cell_type": "markdown",
   "id": "a3049dc1-4292-45e8-86f0-92202c2294f3",
   "metadata": {},
   "source": [
    "The acceleration looks signficant but my 8 GB M1 mac quickly out of memory and could not test even larger chunks.  "
   ]
  }
 ],
 "metadata": {
  "kernelspec": {
   "display_name": "py310",
   "language": "python",
   "name": "py310"
  },
  "language_info": {
   "codemirror_mode": {
    "name": "ipython",
    "version": 3
   },
   "file_extension": ".py",
   "mimetype": "text/x-python",
   "name": "python",
   "nbconvert_exporter": "python",
   "pygments_lexer": "ipython3",
   "version": "3.10.10"
  }
 },
 "nbformat": 4,
 "nbformat_minor": 5
}
